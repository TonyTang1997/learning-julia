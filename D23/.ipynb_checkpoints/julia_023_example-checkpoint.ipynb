{
 "cells": [
  {
   "cell_type": "markdown",
   "metadata": {},
   "source": [
    "# Julia 基礎圖表繪製: Plots 套件"
   ]
  },
  {
   "cell_type": "markdown",
   "metadata": {},
   "source": [
    "本範例需要使用到的套件有 Plots、StatsPlots，請在執行以下範例前先安裝。\n",
    "\n",
    "```\n",
    "] add Plots\n",
    "] add StatsPlots\n",
    "```"
   ]
  },
  {
   "cell_type": "code",
   "execution_count": 2,
   "metadata": {},
   "outputs": [
    {
     "ename": "ArgumentError",
     "evalue": "ArgumentError: Package Plots not found in current path:\n- Run `import Pkg; Pkg.add(\"Plots\")` to install the Plots package.\n",
     "output_type": "error",
     "traceback": [
      "ArgumentError: Package Plots not found in current path:\n- Run `import Pkg; Pkg.add(\"Plots\")` to install the Plots package.\n",
      "",
      "Stacktrace:",
      " [1] require(::Module, ::Symbol) at .\\loading.jl:892",
      " [2] top-level scope at In[2]:1"
     ]
    }
   ],
   "source": [
    "using RDatasets, Plots"
   ]
  },
  {
   "cell_type": "markdown",
   "metadata": {},
   "source": [
    "## 圓餅圖"
   ]
  },
  {
   "cell_type": "code",
   "execution_count": 3,
   "metadata": {},
   "outputs": [
    {
     "ename": "UndefVarError",
     "evalue": "UndefVarError: pie not defined",
     "output_type": "error",
     "traceback": [
      "UndefVarError: pie not defined",
      "",
      "Stacktrace:",
      " [1] top-level scope at In[3]:3"
     ]
    }
   ],
   "source": [
    "haireyecolor = dataset(\"datasets\", \"HairEyeColor\")\n",
    "haircolor = by(haireyecolor, :Hair, Freq=:Freq => sum)\n",
    "p = pie(haircolor[!, :Hair], haircolor[!, :Freq]; size=(250, 200))"
   ]
  },
  {
   "cell_type": "code",
   "execution_count": 4,
   "metadata": {},
   "outputs": [
    {
     "ename": "UndefVarError",
     "evalue": "UndefVarError: savefig not defined",
     "output_type": "error",
     "traceback": [
      "UndefVarError: savefig not defined",
      "",
      "Stacktrace:",
      " [1] top-level scope at In[4]:1"
     ]
    }
   ],
   "source": [
    "savefig(p, \"pie.png\")"
   ]
  },
  {
   "cell_type": "markdown",
   "metadata": {},
   "source": [
    "## 樹狀圖"
   ]
  },
  {
   "cell_type": "markdown",
   "metadata": {},
   "source": [
    "## Marginal histogram"
   ]
  },
  {
   "cell_type": "code",
   "execution_count": 5,
   "metadata": {},
   "outputs": [
    {
     "ename": "ArgumentError",
     "evalue": "ArgumentError: Package StatsPlots not found in current path:\n- Run `import Pkg; Pkg.add(\"StatsPlots\")` to install the StatsPlots package.\n",
     "output_type": "error",
     "traceback": [
      "ArgumentError: Package StatsPlots not found in current path:\n- Run `import Pkg; Pkg.add(\"StatsPlots\")` to install the StatsPlots package.\n",
      "",
      "Stacktrace:",
      " [1] require(::Module, ::Symbol) at .\\loading.jl:892",
      " [2] top-level scope at In[5]:1"
     ]
    }
   ],
   "source": [
    "using StatsPlots\n",
    "gr()"
   ]
  },
  {
   "cell_type": "code",
   "execution_count": 6,
   "metadata": {},
   "outputs": [
    {
     "ename": "UndefVarError",
     "evalue": "UndefVarError: marginalhist not defined",
     "output_type": "error",
     "traceback": [
      "UndefVarError: marginalhist not defined",
      "",
      "Stacktrace:",
      " [1] top-level scope at In[6]:4"
     ]
    }
   ],
   "source": [
    "n = 5000\n",
    "x = randn(n)\n",
    "y = -0.5x + randn(n)\n",
    "p = marginalhist(x, y, fc=:plasma, bins=40)"
   ]
  },
  {
   "cell_type": "code",
   "execution_count": 7,
   "metadata": {},
   "outputs": [
    {
     "ename": "UndefVarError",
     "evalue": "UndefVarError: savefig not defined",
     "output_type": "error",
     "traceback": [
      "UndefVarError: savefig not defined",
      "",
      "Stacktrace:",
      " [1] top-level scope at In[7]:1"
     ]
    }
   ],
   "source": [
    "savefig(p, \"marghist.png\")"
   ]
  },
  {
   "cell_type": "markdown",
   "metadata": {},
   "source": [
    "## 3D 繪圖"
   ]
  },
  {
   "cell_type": "code",
   "execution_count": 8,
   "metadata": {},
   "outputs": [
    {
     "data": {
      "text/plain": [
       "-2.0:0.008016032064128256:2.0"
      ]
     },
     "execution_count": 8,
     "metadata": {},
     "output_type": "execute_result"
    }
   ],
   "source": [
    "n = 500\n",
    "x = range(-8., stop=8., length=n)\n",
    "y = range(-2., stop=2., length=n)"
   ]
  },
  {
   "cell_type": "code",
   "execution_count": 9,
   "metadata": {},
   "outputs": [
    {
     "data": {
      "text/plain": [
       "f (generic function with 1 method)"
      ]
     },
     "execution_count": 9,
     "metadata": {},
     "output_type": "execute_result"
    }
   ],
   "source": [
    "f(x,y) = x*exp(-(x-round(Int, x))^2-y^2)"
   ]
  },
  {
   "cell_type": "code",
   "execution_count": 10,
   "metadata": {},
   "outputs": [
    {
     "ename": "UndefVarError",
     "evalue": "UndefVarError: plot not defined",
     "output_type": "error",
     "traceback": [
      "UndefVarError: plot not defined",
      "",
      "Stacktrace:",
      " [1] top-level scope at In[10]:1"
     ]
    }
   ],
   "source": [
    "p = plot(x, y, f, st=:surface)"
   ]
  },
  {
   "cell_type": "code",
   "execution_count": 11,
   "metadata": {},
   "outputs": [
    {
     "ename": "UndefVarError",
     "evalue": "UndefVarError: savefig not defined",
     "output_type": "error",
     "traceback": [
      "UndefVarError: savefig not defined",
      "",
      "Stacktrace:",
      " [1] top-level scope at In[11]:1"
     ]
    }
   ],
   "source": [
    "savefig(p, \"3d_function.png\")"
   ]
  },
  {
   "cell_type": "markdown",
   "metadata": {},
   "source": [
    "## 3D 動畫"
   ]
  },
  {
   "cell_type": "code",
   "execution_count": 12,
   "metadata": {},
   "outputs": [
    {
     "ename": "LoadError",
     "evalue": "UndefVarError: @gif not defined",
     "output_type": "error",
     "traceback": [
      "UndefVarError: @gif not defined",
      ""
     ]
    }
   ],
   "source": [
    "n = 500\n",
    "x = range(-8., stop=8., length=n)\n",
    "y = range(-2., stop=2., length=n)\n",
    "f(x,y) = x*exp(-(x-round(Int, x))^2-y^2)\n",
    "@gif for i in range(0, stop=2π, length=100)\n",
    "    p = plot(x, y, f, st=:surface)\n",
    "    plot!(p, camera=(15*cos(i), 40))\n",
    "end"
   ]
  },
  {
   "cell_type": "markdown",
   "metadata": {},
   "source": [
    "## 動畫輸出"
   ]
  },
  {
   "cell_type": "code",
   "execution_count": 13,
   "metadata": {},
   "outputs": [
    {
     "ename": "UndefVarError",
     "evalue": "UndefVarError: plot not defined",
     "output_type": "error",
     "traceback": [
      "UndefVarError: plot not defined",
      "",
      "Stacktrace:",
      " [1] top-level scope at In[13]:1"
     ]
    }
   ],
   "source": [
    "p = plot(1)\n",
    "ani = @animate for i in range(0, stop=2π, length=100)\n",
    "    p = plot(x, y, f, st=:surface)\n",
    "    plot!(p, camera=(15*cos(i), 40))\n",
    "end\n",
    "gif(ani, \"animate.gif\", fps = 30)"
   ]
  },
  {
   "cell_type": "code",
   "execution_count": null,
   "metadata": {},
   "outputs": [],
   "source": []
  }
 ],
 "metadata": {
  "kernelspec": {
   "display_name": "Julia 1.4.1",
   "language": "julia",
   "name": "julia-1.4"
  },
  "language_info": {
   "file_extension": ".jl",
   "mimetype": "application/julia",
   "name": "julia",
   "version": "1.4.1"
  }
 },
 "nbformat": 4,
 "nbformat_minor": 4
}
