{
 "cells": [
  {
   "cell_type": "markdown",
   "metadata": {},
   "source": [
    "# Julia 機器學習：GLM 線性迴歸"
   ]
  },
  {
   "cell_type": "markdown",
   "metadata": {},
   "source": [
    "本範例需要使用到的套件有 GLM、RDatasets、MLDataUtils，請在執行以下範例前先安裝。\n",
    "\n",
    "```\n",
    "] add GLM\n",
    "] add RDatasets\n",
    "] add MLDataUtils\n",
    "```"
   ]
  },
  {
   "cell_type": "code",
   "execution_count": 1,
   "metadata": {},
   "outputs": [
    {
     "name": "stderr",
     "output_type": "stream",
     "text": [
      "┌ Info: Precompiling GLM [38e38edf-8417-5370-95a0-9cbb8c7f171a]\n",
      "└ @ Base loading.jl:1260\n",
      "┌ Info: Precompiling RDatasets [ce6b1742-4840-55fa-b093-852dadbb1d8b]\n",
      "└ @ Base loading.jl:1260\n",
      "┌ Info: Precompiling MLDataUtils [cc2ba9b6-d476-5e6d-8eaf-a92d5412d41d]\n",
      "└ @ Base loading.jl:1260\n"
     ]
    }
   ],
   "source": [
    "using GLM\n",
    "using RDatasets\n",
    "using MLDataUtils\n",
    "using Statistics"
   ]
  },
  {
   "cell_type": "markdown",
   "metadata": {},
   "source": [
    "## 單純線性迴歸模型示範"
   ]
  },
  {
   "cell_type": "markdown",
   "metadata": {},
   "source": [
    "## 載入資料"
   ]
  },
  {
   "cell_type": "code",
   "execution_count": 2,
   "metadata": {},
   "outputs": [
    {
     "data": {
      "text/html": [
       "<table class=\"data-frame\"><thead><tr><th></th><th>Year</th><th>GNPDeflator</th><th>GNP</th><th>Unemployed</th><th>ArmedForces</th><th>Population</th><th>Year_1</th><th>Employed</th></tr><tr><th></th><th>Int64</th><th>Float64</th><th>Float64</th><th>Float64</th><th>Float64</th><th>Float64</th><th>Int64</th><th>Float64</th></tr></thead><tbody><p>16 rows × 8 columns</p><tr><th>1</th><td>1947</td><td>83.0</td><td>234.289</td><td>235.6</td><td>159.0</td><td>107.608</td><td>1947</td><td>60.323</td></tr><tr><th>2</th><td>1948</td><td>88.5</td><td>259.426</td><td>232.5</td><td>145.6</td><td>108.632</td><td>1948</td><td>61.122</td></tr><tr><th>3</th><td>1949</td><td>88.2</td><td>258.054</td><td>368.2</td><td>161.6</td><td>109.773</td><td>1949</td><td>60.171</td></tr><tr><th>4</th><td>1950</td><td>89.5</td><td>284.599</td><td>335.1</td><td>165.0</td><td>110.929</td><td>1950</td><td>61.187</td></tr><tr><th>5</th><td>1951</td><td>96.2</td><td>328.975</td><td>209.9</td><td>309.9</td><td>112.075</td><td>1951</td><td>63.221</td></tr><tr><th>6</th><td>1952</td><td>98.1</td><td>346.999</td><td>193.2</td><td>359.4</td><td>113.27</td><td>1952</td><td>63.639</td></tr><tr><th>7</th><td>1953</td><td>99.0</td><td>365.385</td><td>187.0</td><td>354.7</td><td>115.094</td><td>1953</td><td>64.989</td></tr><tr><th>8</th><td>1954</td><td>100.0</td><td>363.112</td><td>357.8</td><td>335.0</td><td>116.219</td><td>1954</td><td>63.761</td></tr><tr><th>9</th><td>1955</td><td>101.2</td><td>397.469</td><td>290.4</td><td>304.8</td><td>117.388</td><td>1955</td><td>66.019</td></tr><tr><th>10</th><td>1956</td><td>104.6</td><td>419.18</td><td>282.2</td><td>285.7</td><td>118.734</td><td>1956</td><td>67.857</td></tr><tr><th>11</th><td>1957</td><td>108.4</td><td>442.769</td><td>293.6</td><td>279.8</td><td>120.445</td><td>1957</td><td>68.169</td></tr><tr><th>12</th><td>1958</td><td>110.8</td><td>444.546</td><td>468.1</td><td>263.7</td><td>121.95</td><td>1958</td><td>66.513</td></tr><tr><th>13</th><td>1959</td><td>112.6</td><td>482.704</td><td>381.3</td><td>255.2</td><td>123.366</td><td>1959</td><td>68.655</td></tr><tr><th>14</th><td>1960</td><td>114.2</td><td>502.601</td><td>393.1</td><td>251.4</td><td>125.368</td><td>1960</td><td>69.564</td></tr><tr><th>15</th><td>1961</td><td>115.7</td><td>518.173</td><td>480.6</td><td>257.2</td><td>127.852</td><td>1961</td><td>69.331</td></tr><tr><th>16</th><td>1962</td><td>116.9</td><td>554.894</td><td>400.7</td><td>282.7</td><td>130.081</td><td>1962</td><td>70.551</td></tr></tbody></table>"
      ],
      "text/latex": [
       "\\begin{tabular}{r|cccccccc}\n",
       "\t& Year & GNPDeflator & GNP & Unemployed & ArmedForces & Population & Year\\_1 & Employed\\\\\n",
       "\t\\hline\n",
       "\t& Int64 & Float64 & Float64 & Float64 & Float64 & Float64 & Int64 & Float64\\\\\n",
       "\t\\hline\n",
       "\t1 & 1947 & 83.0 & 234.289 & 235.6 & 159.0 & 107.608 & 1947 & 60.323 \\\\\n",
       "\t2 & 1948 & 88.5 & 259.426 & 232.5 & 145.6 & 108.632 & 1948 & 61.122 \\\\\n",
       "\t3 & 1949 & 88.2 & 258.054 & 368.2 & 161.6 & 109.773 & 1949 & 60.171 \\\\\n",
       "\t4 & 1950 & 89.5 & 284.599 & 335.1 & 165.0 & 110.929 & 1950 & 61.187 \\\\\n",
       "\t5 & 1951 & 96.2 & 328.975 & 209.9 & 309.9 & 112.075 & 1951 & 63.221 \\\\\n",
       "\t6 & 1952 & 98.1 & 346.999 & 193.2 & 359.4 & 113.27 & 1952 & 63.639 \\\\\n",
       "\t7 & 1953 & 99.0 & 365.385 & 187.0 & 354.7 & 115.094 & 1953 & 64.989 \\\\\n",
       "\t8 & 1954 & 100.0 & 363.112 & 357.8 & 335.0 & 116.219 & 1954 & 63.761 \\\\\n",
       "\t9 & 1955 & 101.2 & 397.469 & 290.4 & 304.8 & 117.388 & 1955 & 66.019 \\\\\n",
       "\t10 & 1956 & 104.6 & 419.18 & 282.2 & 285.7 & 118.734 & 1956 & 67.857 \\\\\n",
       "\t11 & 1957 & 108.4 & 442.769 & 293.6 & 279.8 & 120.445 & 1957 & 68.169 \\\\\n",
       "\t12 & 1958 & 110.8 & 444.546 & 468.1 & 263.7 & 121.95 & 1958 & 66.513 \\\\\n",
       "\t13 & 1959 & 112.6 & 482.704 & 381.3 & 255.2 & 123.366 & 1959 & 68.655 \\\\\n",
       "\t14 & 1960 & 114.2 & 502.601 & 393.1 & 251.4 & 125.368 & 1960 & 69.564 \\\\\n",
       "\t15 & 1961 & 115.7 & 518.173 & 480.6 & 257.2 & 127.852 & 1961 & 69.331 \\\\\n",
       "\t16 & 1962 & 116.9 & 554.894 & 400.7 & 282.7 & 130.081 & 1962 & 70.551 \\\\\n",
       "\\end{tabular}\n"
      ],
      "text/plain": [
       "16×8 DataFrame. Omitted printing of 2 columns\n",
       "│ Row │ Year  │ GNPDeflator │ GNP     │ Unemployed │ ArmedForces │ Population │\n",
       "│     │ \u001b[90mInt64\u001b[39m │ \u001b[90mFloat64\u001b[39m     │ \u001b[90mFloat64\u001b[39m │ \u001b[90mFloat64\u001b[39m    │ \u001b[90mFloat64\u001b[39m     │ \u001b[90mFloat64\u001b[39m    │\n",
       "├─────┼───────┼─────────────┼─────────┼────────────┼─────────────┼────────────┤\n",
       "│ 1   │ 1947  │ 83.0        │ 234.289 │ 235.6      │ 159.0       │ 107.608    │\n",
       "│ 2   │ 1948  │ 88.5        │ 259.426 │ 232.5      │ 145.6       │ 108.632    │\n",
       "│ 3   │ 1949  │ 88.2        │ 258.054 │ 368.2      │ 161.6       │ 109.773    │\n",
       "│ 4   │ 1950  │ 89.5        │ 284.599 │ 335.1      │ 165.0       │ 110.929    │\n",
       "│ 5   │ 1951  │ 96.2        │ 328.975 │ 209.9      │ 309.9       │ 112.075    │\n",
       "│ 6   │ 1952  │ 98.1        │ 346.999 │ 193.2      │ 359.4       │ 113.27     │\n",
       "│ 7   │ 1953  │ 99.0        │ 365.385 │ 187.0      │ 354.7       │ 115.094    │\n",
       "│ 8   │ 1954  │ 100.0       │ 363.112 │ 357.8      │ 335.0       │ 116.219    │\n",
       "│ 9   │ 1955  │ 101.2       │ 397.469 │ 290.4      │ 304.8       │ 117.388    │\n",
       "│ 10  │ 1956  │ 104.6       │ 419.18  │ 282.2      │ 285.7       │ 118.734    │\n",
       "│ 11  │ 1957  │ 108.4       │ 442.769 │ 293.6      │ 279.8       │ 120.445    │\n",
       "│ 12  │ 1958  │ 110.8       │ 444.546 │ 468.1      │ 263.7       │ 121.95     │\n",
       "│ 13  │ 1959  │ 112.6       │ 482.704 │ 381.3      │ 255.2       │ 123.366    │\n",
       "│ 14  │ 1960  │ 114.2       │ 502.601 │ 393.1      │ 251.4       │ 125.368    │\n",
       "│ 15  │ 1961  │ 115.7       │ 518.173 │ 480.6      │ 257.2       │ 127.852    │\n",
       "│ 16  │ 1962  │ 116.9       │ 554.894 │ 400.7      │ 282.7       │ 130.081    │"
      ]
     },
     "execution_count": 2,
     "metadata": {},
     "output_type": "execute_result"
    }
   ],
   "source": [
    "data = RDatasets.dataset(\"datasets\", \"longley\")"
   ]
  },
  {
   "cell_type": "markdown",
   "metadata": {},
   "source": [
    "## 線性迴歸模型"
   ]
  },
  {
   "cell_type": "code",
   "execution_count": 3,
   "metadata": {},
   "outputs": [
    {
     "data": {
      "text/plain": [
       "StatsModels.TableRegressionModel{LinearModel{GLM.LmResp{Array{Float64,1}},GLM.DensePredChol{Float64,LinearAlgebra.Cholesky{Float64,Array{Float64,2}}}},Array{Float64,2}}\n",
       "\n",
       "Employed ~ 1 + GNP\n",
       "\n",
       "Coefficients:\n",
       "──────────────────────────────────────────────────────────────────────────────\n",
       "               Estimate  Std. Error  t value  Pr(>|t|)   Lower 95%   Upper 95%\n",
       "──────────────────────────────────────────────────────────────────────────────\n",
       "(Intercept)  51.8436     0.681372    76.0871    <1e-19  50.3822     53.305\n",
       "GNP           0.0347523  0.00170571  20.3741    <1e-11   0.0310939   0.0384107\n",
       "──────────────────────────────────────────────────────────────────────────────"
      ]
     },
     "execution_count": 3,
     "metadata": {},
     "output_type": "execute_result"
    }
   ],
   "source": [
    "model = GLM.lm(@formula(Employed ~ GNP), data)"
   ]
  },
  {
   "cell_type": "code",
   "execution_count": 4,
   "metadata": {},
   "outputs": [
    {
     "data": {
      "text/plain": [
       "2-element Array{Float64,1}:\n",
       " 51.84358978188421\n",
       "  0.03475229434762888"
      ]
     },
     "execution_count": 4,
     "metadata": {},
     "output_type": "execute_result"
    }
   ],
   "source": [
    "intercept, slope = coef(model)"
   ]
  },
  {
   "cell_type": "markdown",
   "metadata": {},
   "source": [
    "## 預測"
   ]
  },
  {
   "cell_type": "code",
   "execution_count": 5,
   "metadata": {},
   "outputs": [
    {
     "data": {
      "text/html": [
       "<table class=\"data-frame\"><thead><tr><th></th><th>GNP</th></tr><tr><th></th><th>Float64</th></tr></thead><tbody><p>3 rows × 1 columns</p><tr><th>1</th><td>300.0</td></tr><tr><th>2</th><td>400.0</td></tr><tr><th>3</th><td>500.0</td></tr></tbody></table>"
      ],
      "text/latex": [
       "\\begin{tabular}{r|c}\n",
       "\t& GNP\\\\\n",
       "\t\\hline\n",
       "\t& Float64\\\\\n",
       "\t\\hline\n",
       "\t1 & 300.0 \\\\\n",
       "\t2 & 400.0 \\\\\n",
       "\t3 & 500.0 \\\\\n",
       "\\end{tabular}\n"
      ],
      "text/plain": [
       "3×1 DataFrame\n",
       "│ Row │ GNP     │\n",
       "│     │ \u001b[90mFloat64\u001b[39m │\n",
       "├─────┼─────────┤\n",
       "│ 1   │ 300.0   │\n",
       "│ 2   │ 400.0   │\n",
       "│ 3   │ 500.0   │"
      ]
     },
     "execution_count": 5,
     "metadata": {},
     "output_type": "execute_result"
    }
   ],
   "source": [
    "new_X = DataFrame(GNP=[300., 400., 500.])"
   ]
  },
  {
   "cell_type": "code",
   "execution_count": 6,
   "metadata": {},
   "outputs": [
    {
     "data": {
      "text/plain": [
       "3-element Array{Union{Missing, Float64},1}:\n",
       " 62.269278086172875\n",
       " 65.74450752093577\n",
       " 69.21973695569865"
      ]
     },
     "execution_count": 6,
     "metadata": {},
     "output_type": "execute_result"
    }
   ],
   "source": [
    "predict(model, new_X)"
   ]
  },
  {
   "cell_type": "markdown",
   "metadata": {},
   "source": [
    "## 模型評估"
   ]
  },
  {
   "cell_type": "code",
   "execution_count": 7,
   "metadata": {},
   "outputs": [
    {
     "data": {
      "text/plain": [
       "0.9673737718541232"
      ]
     },
     "execution_count": 7,
     "metadata": {},
     "output_type": "execute_result"
    }
   ],
   "source": [
    "GLM.r2(model)"
   ]
  },
  {
   "cell_type": "code",
   "execution_count": 8,
   "metadata": {},
   "outputs": [
    {
     "data": {
      "text/plain": [
       "0.9650433269865606"
      ]
     },
     "execution_count": 8,
     "metadata": {},
     "output_type": "execute_result"
    }
   ],
   "source": [
    "GLM.adjr2(model)"
   ]
  },
  {
   "cell_type": "markdown",
   "metadata": {},
   "source": [
    "## 多元線性迴歸模型"
   ]
  },
  {
   "cell_type": "markdown",
   "metadata": {},
   "source": [
    "## 載入資料"
   ]
  },
  {
   "cell_type": "code",
   "execution_count": 9,
   "metadata": {},
   "outputs": [
    {
     "data": {
      "text/html": [
       "<table class=\"data-frame\"><thead><tr><th></th><th>Model</th><th>MPG</th><th>Cyl</th><th>Disp</th><th>HP</th><th>DRat</th><th>WT</th><th>QSec</th><th>VS</th></tr><tr><th></th><th>String</th><th>Float64</th><th>Int64</th><th>Float64</th><th>Int64</th><th>Float64</th><th>Float64</th><th>Float64</th><th>Int64</th></tr></thead><tbody><p>6 rows × 12 columns (omitted printing of 3 columns)</p><tr><th>1</th><td>Mazda RX4</td><td>21.0</td><td>6</td><td>160.0</td><td>110</td><td>3.9</td><td>2.62</td><td>16.46</td><td>0</td></tr><tr><th>2</th><td>Mazda RX4 Wag</td><td>21.0</td><td>6</td><td>160.0</td><td>110</td><td>3.9</td><td>2.875</td><td>17.02</td><td>0</td></tr><tr><th>3</th><td>Datsun 710</td><td>22.8</td><td>4</td><td>108.0</td><td>93</td><td>3.85</td><td>2.32</td><td>18.61</td><td>1</td></tr><tr><th>4</th><td>Hornet 4 Drive</td><td>21.4</td><td>6</td><td>258.0</td><td>110</td><td>3.08</td><td>3.215</td><td>19.44</td><td>1</td></tr><tr><th>5</th><td>Hornet Sportabout</td><td>18.7</td><td>8</td><td>360.0</td><td>175</td><td>3.15</td><td>3.44</td><td>17.02</td><td>0</td></tr><tr><th>6</th><td>Valiant</td><td>18.1</td><td>6</td><td>225.0</td><td>105</td><td>2.76</td><td>3.46</td><td>20.22</td><td>1</td></tr></tbody></table>"
      ],
      "text/latex": [
       "\\begin{tabular}{r|cccccccccc}\n",
       "\t& Model & MPG & Cyl & Disp & HP & DRat & WT & QSec & VS & \\\\\n",
       "\t\\hline\n",
       "\t& String & Float64 & Int64 & Float64 & Int64 & Float64 & Float64 & Float64 & Int64 & \\\\\n",
       "\t\\hline\n",
       "\t1 & Mazda RX4 & 21.0 & 6 & 160.0 & 110 & 3.9 & 2.62 & 16.46 & 0 & $\\dots$ \\\\\n",
       "\t2 & Mazda RX4 Wag & 21.0 & 6 & 160.0 & 110 & 3.9 & 2.875 & 17.02 & 0 & $\\dots$ \\\\\n",
       "\t3 & Datsun 710 & 22.8 & 4 & 108.0 & 93 & 3.85 & 2.32 & 18.61 & 1 & $\\dots$ \\\\\n",
       "\t4 & Hornet 4 Drive & 21.4 & 6 & 258.0 & 110 & 3.08 & 3.215 & 19.44 & 1 & $\\dots$ \\\\\n",
       "\t5 & Hornet Sportabout & 18.7 & 8 & 360.0 & 175 & 3.15 & 3.44 & 17.02 & 0 & $\\dots$ \\\\\n",
       "\t6 & Valiant & 18.1 & 6 & 225.0 & 105 & 2.76 & 3.46 & 20.22 & 1 & $\\dots$ \\\\\n",
       "\\end{tabular}\n"
      ],
      "text/plain": [
       "6×12 DataFrame. Omitted printing of 6 columns\n",
       "│ Row │ Model             │ MPG     │ Cyl   │ Disp    │ HP    │ DRat    │\n",
       "│     │ \u001b[90mString\u001b[39m            │ \u001b[90mFloat64\u001b[39m │ \u001b[90mInt64\u001b[39m │ \u001b[90mFloat64\u001b[39m │ \u001b[90mInt64\u001b[39m │ \u001b[90mFloat64\u001b[39m │\n",
       "├─────┼───────────────────┼─────────┼───────┼─────────┼───────┼─────────┤\n",
       "│ 1   │ Mazda RX4         │ 21.0    │ 6     │ 160.0   │ 110   │ 3.9     │\n",
       "│ 2   │ Mazda RX4 Wag     │ 21.0    │ 6     │ 160.0   │ 110   │ 3.9     │\n",
       "│ 3   │ Datsun 710        │ 22.8    │ 4     │ 108.0   │ 93    │ 3.85    │\n",
       "│ 4   │ Hornet 4 Drive    │ 21.4    │ 6     │ 258.0   │ 110   │ 3.08    │\n",
       "│ 5   │ Hornet Sportabout │ 18.7    │ 8     │ 360.0   │ 175   │ 3.15    │\n",
       "│ 6   │ Valiant           │ 18.1    │ 6     │ 225.0   │ 105   │ 2.76    │"
      ]
     },
     "execution_count": 9,
     "metadata": {},
     "output_type": "execute_result"
    }
   ],
   "source": [
    "data = RDatasets.dataset(\"datasets\", \"mtcars\")\n",
    "first(data, 6)"
   ]
  },
  {
   "cell_type": "markdown",
   "metadata": {},
   "source": [
    "## 切分訓練資料及測試資料"
   ]
  },
  {
   "cell_type": "code",
   "execution_count": 10,
   "metadata": {},
   "outputs": [],
   "source": [
    "indecies = MLDataUtils.shuffleobs(collect(1:nrow(data)))\n",
    "train_ind, test_ind = MLDataUtils.splitobs(indecies, at = 0.8);"
   ]
  },
  {
   "cell_type": "code",
   "execution_count": 11,
   "metadata": {},
   "outputs": [
    {
     "data": {
      "text/html": [
       "<table class=\"data-frame\"><thead><tr><th></th><th>Model</th><th>MPG</th><th>Cyl</th><th>Disp</th><th>HP</th><th>DRat</th><th>WT</th><th>QSec</th><th>VS</th></tr><tr><th></th><th>String</th><th>Float64</th><th>Int64</th><th>Float64</th><th>Int64</th><th>Float64</th><th>Float64</th><th>Float64</th><th>Int64</th></tr></thead><tbody><p>6 rows × 12 columns (omitted printing of 3 columns)</p><tr><th>1</th><td>Merc 240D</td><td>24.4</td><td>4</td><td>146.7</td><td>62</td><td>3.69</td><td>3.19</td><td>20.0</td><td>1</td></tr><tr><th>2</th><td>Hornet Sportabout</td><td>18.7</td><td>8</td><td>360.0</td><td>175</td><td>3.15</td><td>3.44</td><td>17.02</td><td>0</td></tr><tr><th>3</th><td>Datsun 710</td><td>22.8</td><td>4</td><td>108.0</td><td>93</td><td>3.85</td><td>2.32</td><td>18.61</td><td>1</td></tr><tr><th>4</th><td>AMC Javelin</td><td>15.2</td><td>8</td><td>304.0</td><td>150</td><td>3.15</td><td>3.435</td><td>17.3</td><td>0</td></tr><tr><th>5</th><td>Honda Civic</td><td>30.4</td><td>4</td><td>75.7</td><td>52</td><td>4.93</td><td>1.615</td><td>18.52</td><td>1</td></tr><tr><th>6</th><td>Merc 280C</td><td>17.8</td><td>6</td><td>167.6</td><td>123</td><td>3.92</td><td>3.44</td><td>18.9</td><td>1</td></tr></tbody></table>"
      ],
      "text/latex": [
       "\\begin{tabular}{r|cccccccccc}\n",
       "\t& Model & MPG & Cyl & Disp & HP & DRat & WT & QSec & VS & \\\\\n",
       "\t\\hline\n",
       "\t& String & Float64 & Int64 & Float64 & Int64 & Float64 & Float64 & Float64 & Int64 & \\\\\n",
       "\t\\hline\n",
       "\t1 & Merc 240D & 24.4 & 4 & 146.7 & 62 & 3.69 & 3.19 & 20.0 & 1 & $\\dots$ \\\\\n",
       "\t2 & Hornet Sportabout & 18.7 & 8 & 360.0 & 175 & 3.15 & 3.44 & 17.02 & 0 & $\\dots$ \\\\\n",
       "\t3 & Datsun 710 & 22.8 & 4 & 108.0 & 93 & 3.85 & 2.32 & 18.61 & 1 & $\\dots$ \\\\\n",
       "\t4 & AMC Javelin & 15.2 & 8 & 304.0 & 150 & 3.15 & 3.435 & 17.3 & 0 & $\\dots$ \\\\\n",
       "\t5 & Honda Civic & 30.4 & 4 & 75.7 & 52 & 4.93 & 1.615 & 18.52 & 1 & $\\dots$ \\\\\n",
       "\t6 & Merc 280C & 17.8 & 6 & 167.6 & 123 & 3.92 & 3.44 & 18.9 & 1 & $\\dots$ \\\\\n",
       "\\end{tabular}\n"
      ],
      "text/plain": [
       "6×12 DataFrame. Omitted printing of 6 columns\n",
       "│ Row │ Model             │ MPG     │ Cyl   │ Disp    │ HP    │ DRat    │\n",
       "│     │ \u001b[90mString\u001b[39m            │ \u001b[90mFloat64\u001b[39m │ \u001b[90mInt64\u001b[39m │ \u001b[90mFloat64\u001b[39m │ \u001b[90mInt64\u001b[39m │ \u001b[90mFloat64\u001b[39m │\n",
       "├─────┼───────────────────┼─────────┼───────┼─────────┼───────┼─────────┤\n",
       "│ 1   │ Merc 240D         │ 24.4    │ 4     │ 146.7   │ 62    │ 3.69    │\n",
       "│ 2   │ Hornet Sportabout │ 18.7    │ 8     │ 360.0   │ 175   │ 3.15    │\n",
       "│ 3   │ Datsun 710        │ 22.8    │ 4     │ 108.0   │ 93    │ 3.85    │\n",
       "│ 4   │ AMC Javelin       │ 15.2    │ 8     │ 304.0   │ 150   │ 3.15    │\n",
       "│ 5   │ Honda Civic       │ 30.4    │ 4     │ 75.7    │ 52    │ 4.93    │\n",
       "│ 6   │ Merc 280C         │ 17.8    │ 6     │ 167.6   │ 123   │ 3.92    │"
      ]
     },
     "execution_count": 11,
     "metadata": {},
     "output_type": "execute_result"
    }
   ],
   "source": [
    "train = data[train_ind, :]\n",
    "test = data[test_ind, :]"
   ]
  },
  {
   "cell_type": "markdown",
   "metadata": {},
   "source": [
    "## 線性迴歸模型"
   ]
  },
  {
   "cell_type": "code",
   "execution_count": 12,
   "metadata": {},
   "outputs": [
    {
     "data": {
      "text/plain": [
       "StatsModels.TableRegressionModel{LinearModel{GLM.LmResp{Array{Float64,1}},GLM.DensePredChol{Float64,LinearAlgebra.Cholesky{Float64,Array{Float64,2}}}},Array{Float64,2}}\n",
       "\n",
       "MPG ~ 1 + Cyl + Disp + HP + DRat + WT + QSec + VS + AM + Gear + Carb\n",
       "\n",
       "Coefficients:\n",
       "──────────────────────────────────────────────────────────────────────────────────\n",
       "                Estimate  Std. Error    t value  Pr(>|t|)    Lower 95%   Upper 95%\n",
       "──────────────────────────────────────────────────────────────────────────────────\n",
       "(Intercept)  12.0865      21.184       0.570547    0.5768  -33.0662     57.2391\n",
       "Cyl           0.267647     1.25676     0.212966    0.8342   -2.41108     2.94637\n",
       "Disp          0.00254762   0.0217923   0.116904    0.9085   -0.0439016   0.0489969\n",
       "HP           -0.012515     0.0277355  -0.451226    0.6583   -0.0716319   0.0466019\n",
       "DRat          0.580023     2.14        0.271039    0.7901   -3.98128     5.14132\n",
       "WT           -2.80228      2.38472    -1.1751      0.2583   -7.88519     2.28063\n",
       "QSec          0.710095     0.822406    0.863437    0.4015   -1.04282     2.46301\n",
       "VS            0.774598     2.48638     0.311537    0.7597   -4.52499     6.07419\n",
       "AM            3.62774      2.58879     1.40133     0.1815   -1.89014     9.14561\n",
       "Gear          0.569474     1.78965     0.318205    0.7547   -3.24507     4.38401\n",
       "Carb         -0.692838     1.02219    -0.6778      0.5082   -2.87157     1.4859\n",
       "──────────────────────────────────────────────────────────────────────────────────"
      ]
     },
     "execution_count": 12,
     "metadata": {},
     "output_type": "execute_result"
    }
   ],
   "source": [
    "ols = GLM.lm(@formula(MPG ~ Cyl + Disp + HP + DRat + WT + QSec + VS + AM + Gear + Carb), train)"
   ]
  },
  {
   "cell_type": "markdown",
   "metadata": {},
   "source": [
    "## 預測"
   ]
  },
  {
   "cell_type": "code",
   "execution_count": 13,
   "metadata": {},
   "outputs": [
    {
     "data": {
      "text/plain": [
       "6-element Array{Union{Missing, Float64},1}:\n",
       " 21.824604693901485\n",
       " 17.550464669021817\n",
       " 27.202378108633276\n",
       " 17.933511385184385\n",
       " 29.478492948069974\n",
       " 18.915783323386776"
      ]
     },
     "execution_count": 13,
     "metadata": {},
     "output_type": "execute_result"
    }
   ],
   "source": [
    "predict(ols, test)"
   ]
  },
  {
   "cell_type": "markdown",
   "metadata": {},
   "source": [
    "## 模型評估"
   ]
  },
  {
   "cell_type": "code",
   "execution_count": 14,
   "metadata": {},
   "outputs": [
    {
     "data": {
      "text/plain": [
       "0.8777829439484274"
      ]
     },
     "execution_count": 14,
     "metadata": {},
     "output_type": "execute_result"
    }
   ],
   "source": [
    "GLM.r²(ols)"
   ]
  },
  {
   "cell_type": "code",
   "execution_count": 15,
   "metadata": {},
   "outputs": [
    {
     "data": {
      "text/plain": [
       "0.7963049065807123"
      ]
     },
     "execution_count": 15,
     "metadata": {},
     "output_type": "execute_result"
    }
   ],
   "source": [
    "GLM.adjr²(ols)"
   ]
  },
  {
   "cell_type": "markdown",
   "metadata": {},
   "source": [
    "## 羅吉斯迴歸模型示範"
   ]
  },
  {
   "cell_type": "markdown",
   "metadata": {},
   "source": [
    "## 載入資料"
   ]
  },
  {
   "cell_type": "code",
   "execution_count": 16,
   "metadata": {},
   "outputs": [
    {
     "data": {
      "text/html": [
       "<table class=\"data-frame\"><thead><tr><th></th><th>Default</th><th>Student</th><th>Balance</th><th>Income</th></tr><tr><th></th><th>Categorical…</th><th>Categorical…</th><th>Float64</th><th>Float64</th></tr></thead><tbody><p>6 rows × 4 columns</p><tr><th>1</th><td>No</td><td>No</td><td>729.526</td><td>44361.6</td></tr><tr><th>2</th><td>No</td><td>Yes</td><td>817.18</td><td>12106.1</td></tr><tr><th>3</th><td>No</td><td>No</td><td>1073.55</td><td>31767.1</td></tr><tr><th>4</th><td>No</td><td>No</td><td>529.251</td><td>35704.5</td></tr><tr><th>5</th><td>No</td><td>No</td><td>785.656</td><td>38463.5</td></tr><tr><th>6</th><td>No</td><td>Yes</td><td>919.589</td><td>7491.56</td></tr></tbody></table>"
      ],
      "text/latex": [
       "\\begin{tabular}{r|cccc}\n",
       "\t& Default & Student & Balance & Income\\\\\n",
       "\t\\hline\n",
       "\t& Categorical… & Categorical… & Float64 & Float64\\\\\n",
       "\t\\hline\n",
       "\t1 & No & No & 729.526 & 44361.6 \\\\\n",
       "\t2 & No & Yes & 817.18 & 12106.1 \\\\\n",
       "\t3 & No & No & 1073.55 & 31767.1 \\\\\n",
       "\t4 & No & No & 529.251 & 35704.5 \\\\\n",
       "\t5 & No & No & 785.656 & 38463.5 \\\\\n",
       "\t6 & No & Yes & 919.589 & 7491.56 \\\\\n",
       "\\end{tabular}\n"
      ],
      "text/plain": [
       "6×4 DataFrame\n",
       "│ Row │ Default      │ Student      │ Balance │ Income  │\n",
       "│     │ \u001b[90mCategorical…\u001b[39m │ \u001b[90mCategorical…\u001b[39m │ \u001b[90mFloat64\u001b[39m │ \u001b[90mFloat64\u001b[39m │\n",
       "├─────┼──────────────┼──────────────┼─────────┼─────────┤\n",
       "│ 1   │ No           │ No           │ 729.526 │ 44361.6 │\n",
       "│ 2   │ No           │ Yes          │ 817.18  │ 12106.1 │\n",
       "│ 3   │ No           │ No           │ 1073.55 │ 31767.1 │\n",
       "│ 4   │ No           │ No           │ 529.251 │ 35704.5 │\n",
       "│ 5   │ No           │ No           │ 785.656 │ 38463.5 │\n",
       "│ 6   │ No           │ Yes          │ 919.589 │ 7491.56 │"
      ]
     },
     "execution_count": 16,
     "metadata": {},
     "output_type": "execute_result"
    }
   ],
   "source": [
    "data = RDatasets.dataset(\"ISLR\", \"Default\")\n",
    "first(data, 6)"
   ]
  },
  {
   "cell_type": "markdown",
   "metadata": {},
   "source": [
    "## 前處理"
   ]
  },
  {
   "cell_type": "code",
   "execution_count": 17,
   "metadata": {},
   "outputs": [
    {
     "data": {
      "text/html": [
       "<table class=\"data-frame\"><thead><tr><th></th><th>Default</th><th>Student</th><th>Balance</th><th>Income</th><th>DefaultNum</th><th>StudentNum</th></tr><tr><th></th><th>Categorical…</th><th>Categorical…</th><th>Float64</th><th>Float64</th><th>Float64</th><th>Float64</th></tr></thead><tbody><p>6 rows × 6 columns</p><tr><th>1</th><td>No</td><td>No</td><td>729.526</td><td>44361.6</td><td>0.0</td><td>0.0</td></tr><tr><th>2</th><td>No</td><td>Yes</td><td>817.18</td><td>12106.1</td><td>0.0</td><td>1.0</td></tr><tr><th>3</th><td>No</td><td>No</td><td>1073.55</td><td>31767.1</td><td>0.0</td><td>0.0</td></tr><tr><th>4</th><td>No</td><td>No</td><td>529.251</td><td>35704.5</td><td>0.0</td><td>0.0</td></tr><tr><th>5</th><td>No</td><td>No</td><td>785.656</td><td>38463.5</td><td>0.0</td><td>0.0</td></tr><tr><th>6</th><td>No</td><td>Yes</td><td>919.589</td><td>7491.56</td><td>0.0</td><td>1.0</td></tr></tbody></table>"
      ],
      "text/latex": [
       "\\begin{tabular}{r|cccccc}\n",
       "\t& Default & Student & Balance & Income & DefaultNum & StudentNum\\\\\n",
       "\t\\hline\n",
       "\t& Categorical… & Categorical… & Float64 & Float64 & Float64 & Float64\\\\\n",
       "\t\\hline\n",
       "\t1 & No & No & 729.526 & 44361.6 & 0.0 & 0.0 \\\\\n",
       "\t2 & No & Yes & 817.18 & 12106.1 & 0.0 & 1.0 \\\\\n",
       "\t3 & No & No & 1073.55 & 31767.1 & 0.0 & 0.0 \\\\\n",
       "\t4 & No & No & 529.251 & 35704.5 & 0.0 & 0.0 \\\\\n",
       "\t5 & No & No & 785.656 & 38463.5 & 0.0 & 0.0 \\\\\n",
       "\t6 & No & Yes & 919.589 & 7491.56 & 0.0 & 1.0 \\\\\n",
       "\\end{tabular}\n"
      ],
      "text/plain": [
       "6×6 DataFrame. Omitted printing of 1 columns\n",
       "│ Row │ Default      │ Student      │ Balance │ Income  │ DefaultNum │\n",
       "│     │ \u001b[90mCategorical…\u001b[39m │ \u001b[90mCategorical…\u001b[39m │ \u001b[90mFloat64\u001b[39m │ \u001b[90mFloat64\u001b[39m │ \u001b[90mFloat64\u001b[39m    │\n",
       "├─────┼──────────────┼──────────────┼─────────┼─────────┼────────────┤\n",
       "│ 1   │ No           │ No           │ 729.526 │ 44361.6 │ 0.0        │\n",
       "│ 2   │ No           │ Yes          │ 817.18  │ 12106.1 │ 0.0        │\n",
       "│ 3   │ No           │ No           │ 1073.55 │ 31767.1 │ 0.0        │\n",
       "│ 4   │ No           │ No           │ 529.251 │ 35704.5 │ 0.0        │\n",
       "│ 5   │ No           │ No           │ 785.656 │ 38463.5 │ 0.0        │\n",
       "│ 6   │ No           │ Yes          │ 919.589 │ 7491.56 │ 0.0        │"
      ]
     },
     "execution_count": 17,
     "metadata": {},
     "output_type": "execute_result"
    }
   ],
   "source": [
    "isyes(x) = x == \"Yes\" ? 1.0 : 0.0\n",
    "\n",
    "data[!, :DefaultNum] = isyes.(data[!, :Default])\n",
    "data[!, :StudentNum] = isyes.(data[!, :Student])\n",
    "first(data, 6)"
   ]
  },
  {
   "cell_type": "markdown",
   "metadata": {},
   "source": [
    "## 切分訓練資料及測試資料"
   ]
  },
  {
   "cell_type": "code",
   "execution_count": 18,
   "metadata": {},
   "outputs": [],
   "source": [
    "indecies = MLDataUtils.shuffleobs(collect(1:nrow(data)))\n",
    "train_ind, test_ind = MLDataUtils.splitobs(indecies, at=0.8);"
   ]
  },
  {
   "cell_type": "code",
   "execution_count": 19,
   "metadata": {},
   "outputs": [
    {
     "data": {
      "text/html": [
       "<table class=\"data-frame\"><thead><tr><th></th><th>Default</th><th>Student</th><th>Balance</th><th>Income</th><th>DefaultNum</th><th>StudentNum</th></tr><tr><th></th><th>Categorical…</th><th>Categorical…</th><th>Float64</th><th>Float64</th><th>Float64</th><th>Float64</th></tr></thead><tbody><p>2,000 rows × 6 columns</p><tr><th>1</th><td>No</td><td>No</td><td>903.549</td><td>46971.6</td><td>0.0</td><td>0.0</td></tr><tr><th>2</th><td>Yes</td><td>No</td><td>1292.43</td><td>50990.6</td><td>1.0</td><td>0.0</td></tr><tr><th>3</th><td>No</td><td>No</td><td>470.036</td><td>29309.1</td><td>0.0</td><td>0.0</td></tr><tr><th>4</th><td>No</td><td>No</td><td>832.646</td><td>25106.4</td><td>0.0</td><td>0.0</td></tr><tr><th>5</th><td>No</td><td>No</td><td>1129.2</td><td>40688.6</td><td>0.0</td><td>0.0</td></tr><tr><th>6</th><td>No</td><td>No</td><td>1330.48</td><td>50459.0</td><td>0.0</td><td>0.0</td></tr><tr><th>7</th><td>No</td><td>Yes</td><td>1288.39</td><td>22919.6</td><td>0.0</td><td>1.0</td></tr><tr><th>8</th><td>No</td><td>No</td><td>864.047</td><td>27690.1</td><td>0.0</td><td>0.0</td></tr><tr><th>9</th><td>No</td><td>No</td><td>111.285</td><td>42292.3</td><td>0.0</td><td>0.0</td></tr><tr><th>10</th><td>No</td><td>No</td><td>353.65</td><td>30726.3</td><td>0.0</td><td>0.0</td></tr><tr><th>11</th><td>No</td><td>No</td><td>423.43</td><td>46000.8</td><td>0.0</td><td>0.0</td></tr><tr><th>12</th><td>No</td><td>No</td><td>735.47</td><td>53312.5</td><td>0.0</td><td>0.0</td></tr><tr><th>13</th><td>No</td><td>Yes</td><td>1176.89</td><td>23634.8</td><td>0.0</td><td>1.0</td></tr><tr><th>14</th><td>No</td><td>No</td><td>75.7953</td><td>55189.7</td><td>0.0</td><td>0.0</td></tr><tr><th>15</th><td>No</td><td>Yes</td><td>1128.14</td><td>10159.2</td><td>0.0</td><td>1.0</td></tr><tr><th>16</th><td>No</td><td>Yes</td><td>1348.65</td><td>21789.4</td><td>0.0</td><td>1.0</td></tr><tr><th>17</th><td>No</td><td>Yes</td><td>902.981</td><td>15076.3</td><td>0.0</td><td>1.0</td></tr><tr><th>18</th><td>No</td><td>No</td><td>852.971</td><td>42773.8</td><td>0.0</td><td>0.0</td></tr><tr><th>19</th><td>No</td><td>No</td><td>0.0</td><td>48112.5</td><td>0.0</td><td>0.0</td></tr><tr><th>20</th><td>No</td><td>No</td><td>135.998</td><td>59369.6</td><td>0.0</td><td>0.0</td></tr><tr><th>21</th><td>No</td><td>No</td><td>1008.68</td><td>68610.4</td><td>0.0</td><td>0.0</td></tr><tr><th>22</th><td>No</td><td>No</td><td>434.715</td><td>35454.8</td><td>0.0</td><td>0.0</td></tr><tr><th>23</th><td>No</td><td>Yes</td><td>729.19</td><td>18329.7</td><td>0.0</td><td>1.0</td></tr><tr><th>24</th><td>No</td><td>No</td><td>955.927</td><td>10836.7</td><td>0.0</td><td>0.0</td></tr><tr><th>25</th><td>No</td><td>Yes</td><td>914.106</td><td>15546.8</td><td>0.0</td><td>1.0</td></tr><tr><th>26</th><td>No</td><td>No</td><td>906.223</td><td>44626.9</td><td>0.0</td><td>0.0</td></tr><tr><th>27</th><td>No</td><td>No</td><td>70.1855</td><td>36217.0</td><td>0.0</td><td>0.0</td></tr><tr><th>28</th><td>No</td><td>Yes</td><td>401.333</td><td>15332.0</td><td>0.0</td><td>1.0</td></tr><tr><th>29</th><td>No</td><td>No</td><td>1092.52</td><td>19759.1</td><td>0.0</td><td>0.0</td></tr><tr><th>30</th><td>No</td><td>Yes</td><td>196.777</td><td>15858.4</td><td>0.0</td><td>1.0</td></tr><tr><th>&vellip;</th><td>&vellip;</td><td>&vellip;</td><td>&vellip;</td><td>&vellip;</td><td>&vellip;</td><td>&vellip;</td></tr></tbody></table>"
      ],
      "text/latex": [
       "\\begin{tabular}{r|cccccc}\n",
       "\t& Default & Student & Balance & Income & DefaultNum & StudentNum\\\\\n",
       "\t\\hline\n",
       "\t& Categorical… & Categorical… & Float64 & Float64 & Float64 & Float64\\\\\n",
       "\t\\hline\n",
       "\t1 & No & No & 903.549 & 46971.6 & 0.0 & 0.0 \\\\\n",
       "\t2 & Yes & No & 1292.43 & 50990.6 & 1.0 & 0.0 \\\\\n",
       "\t3 & No & No & 470.036 & 29309.1 & 0.0 & 0.0 \\\\\n",
       "\t4 & No & No & 832.646 & 25106.4 & 0.0 & 0.0 \\\\\n",
       "\t5 & No & No & 1129.2 & 40688.6 & 0.0 & 0.0 \\\\\n",
       "\t6 & No & No & 1330.48 & 50459.0 & 0.0 & 0.0 \\\\\n",
       "\t7 & No & Yes & 1288.39 & 22919.6 & 0.0 & 1.0 \\\\\n",
       "\t8 & No & No & 864.047 & 27690.1 & 0.0 & 0.0 \\\\\n",
       "\t9 & No & No & 111.285 & 42292.3 & 0.0 & 0.0 \\\\\n",
       "\t10 & No & No & 353.65 & 30726.3 & 0.0 & 0.0 \\\\\n",
       "\t11 & No & No & 423.43 & 46000.8 & 0.0 & 0.0 \\\\\n",
       "\t12 & No & No & 735.47 & 53312.5 & 0.0 & 0.0 \\\\\n",
       "\t13 & No & Yes & 1176.89 & 23634.8 & 0.0 & 1.0 \\\\\n",
       "\t14 & No & No & 75.7953 & 55189.7 & 0.0 & 0.0 \\\\\n",
       "\t15 & No & Yes & 1128.14 & 10159.2 & 0.0 & 1.0 \\\\\n",
       "\t16 & No & Yes & 1348.65 & 21789.4 & 0.0 & 1.0 \\\\\n",
       "\t17 & No & Yes & 902.981 & 15076.3 & 0.0 & 1.0 \\\\\n",
       "\t18 & No & No & 852.971 & 42773.8 & 0.0 & 0.0 \\\\\n",
       "\t19 & No & No & 0.0 & 48112.5 & 0.0 & 0.0 \\\\\n",
       "\t20 & No & No & 135.998 & 59369.6 & 0.0 & 0.0 \\\\\n",
       "\t21 & No & No & 1008.68 & 68610.4 & 0.0 & 0.0 \\\\\n",
       "\t22 & No & No & 434.715 & 35454.8 & 0.0 & 0.0 \\\\\n",
       "\t23 & No & Yes & 729.19 & 18329.7 & 0.0 & 1.0 \\\\\n",
       "\t24 & No & No & 955.927 & 10836.7 & 0.0 & 0.0 \\\\\n",
       "\t25 & No & Yes & 914.106 & 15546.8 & 0.0 & 1.0 \\\\\n",
       "\t26 & No & No & 906.223 & 44626.9 & 0.0 & 0.0 \\\\\n",
       "\t27 & No & No & 70.1855 & 36217.0 & 0.0 & 0.0 \\\\\n",
       "\t28 & No & Yes & 401.333 & 15332.0 & 0.0 & 1.0 \\\\\n",
       "\t29 & No & No & 1092.52 & 19759.1 & 0.0 & 0.0 \\\\\n",
       "\t30 & No & Yes & 196.777 & 15858.4 & 0.0 & 1.0 \\\\\n",
       "\t$\\dots$ & $\\dots$ & $\\dots$ & $\\dots$ & $\\dots$ & $\\dots$ & $\\dots$ \\\\\n",
       "\\end{tabular}\n"
      ],
      "text/plain": [
       "2000×6 DataFrame. Omitted printing of 1 columns\n",
       "│ Row  │ Default      │ Student      │ Balance │ Income  │ DefaultNum │\n",
       "│      │ \u001b[90mCategorical…\u001b[39m │ \u001b[90mCategorical…\u001b[39m │ \u001b[90mFloat64\u001b[39m │ \u001b[90mFloat64\u001b[39m │ \u001b[90mFloat64\u001b[39m    │\n",
       "├──────┼──────────────┼──────────────┼─────────┼─────────┼────────────┤\n",
       "│ 1    │ No           │ No           │ 903.549 │ 46971.6 │ 0.0        │\n",
       "│ 2    │ Yes          │ No           │ 1292.43 │ 50990.6 │ 1.0        │\n",
       "│ 3    │ No           │ No           │ 470.036 │ 29309.1 │ 0.0        │\n",
       "│ 4    │ No           │ No           │ 832.646 │ 25106.4 │ 0.0        │\n",
       "│ 5    │ No           │ No           │ 1129.2  │ 40688.6 │ 0.0        │\n",
       "│ 6    │ No           │ No           │ 1330.48 │ 50459.0 │ 0.0        │\n",
       "│ 7    │ No           │ Yes          │ 1288.39 │ 22919.6 │ 0.0        │\n",
       "│ 8    │ No           │ No           │ 864.047 │ 27690.1 │ 0.0        │\n",
       "│ 9    │ No           │ No           │ 111.285 │ 42292.3 │ 0.0        │\n",
       "│ 10   │ No           │ No           │ 353.65  │ 30726.3 │ 0.0        │\n",
       "⋮\n",
       "│ 1990 │ No           │ No           │ 708.852 │ 36322.3 │ 0.0        │\n",
       "│ 1991 │ No           │ No           │ 1187.9  │ 43874.0 │ 0.0        │\n",
       "│ 1992 │ No           │ No           │ 1017.79 │ 29828.3 │ 0.0        │\n",
       "│ 1993 │ No           │ Yes          │ 1099.63 │ 17064.0 │ 0.0        │\n",
       "│ 1994 │ No           │ No           │ 13.9445 │ 31071.6 │ 0.0        │\n",
       "│ 1995 │ No           │ No           │ 790.598 │ 45303.1 │ 0.0        │\n",
       "│ 1996 │ No           │ No           │ 699.568 │ 48773.8 │ 0.0        │\n",
       "│ 1997 │ No           │ No           │ 967.135 │ 23278.7 │ 0.0        │\n",
       "│ 1998 │ No           │ Yes          │ 932.696 │ 18743.3 │ 0.0        │\n",
       "│ 1999 │ No           │ No           │ 38.6791 │ 30961.7 │ 0.0        │\n",
       "│ 2000 │ No           │ Yes          │ 1255.43 │ 19885.8 │ 0.0        │"
      ]
     },
     "execution_count": 19,
     "metadata": {},
     "output_type": "execute_result"
    }
   ],
   "source": [
    "train = data[train_ind, :]\n",
    "test = data[test_ind, :]"
   ]
  },
  {
   "cell_type": "markdown",
   "metadata": {},
   "source": [
    "## 羅吉斯迴歸模型"
   ]
  },
  {
   "cell_type": "code",
   "execution_count": 20,
   "metadata": {},
   "outputs": [
    {
     "data": {
      "text/plain": [
       "StatsModels.TableRegressionModel{GeneralizedLinearModel{GLM.GlmResp{Array{Float64,1},Binomial{Float64},LogitLink},GLM.DensePredChol{Float64,LinearAlgebra.Cholesky{Float64,Array{Float64,2}}}},Array{Float64,2}}\n",
       "\n",
       "DefaultNum ~ 1 + Balance + Income\n",
       "\n",
       "Coefficients:\n",
       "───────────────────────────────────────────────────────────────────────────────────────\n",
       "                 Estimate   Std. Error    z value  Pr(>|z|)     Lower 95%     Upper 95%\n",
       "───────────────────────────────────────────────────────────────────────────────────────\n",
       "(Intercept)  -11.5639      0.481837     -23.9997     <1e-99  -12.5083      -10.6196\n",
       "Balance        0.00563896  0.000252445   22.3374     <1e-99    0.00514418    0.00613374\n",
       "Income         2.23438e-5  5.49163e-6     4.06871    <1e-4     1.15804e-5    3.31072e-5\n",
       "───────────────────────────────────────────────────────────────────────────────────────"
      ]
     },
     "execution_count": 20,
     "metadata": {},
     "output_type": "execute_result"
    }
   ],
   "source": [
    "logreg = glm(@formula(DefaultNum ~ Balance + Income), train, Binomial(), LogitLink())"
   ]
  },
  {
   "cell_type": "markdown",
   "metadata": {},
   "source": [
    "## 預測"
   ]
  },
  {
   "cell_type": "code",
   "execution_count": 21,
   "metadata": {},
   "outputs": [
    {
     "data": {
      "text/plain": [
       "2000-element Array{Union{Missing, Float64},1}:\n",
       " 0.0044105680780640874\n",
       " 0.041620662765593695\n",
       " 0.00025896907094147877\n",
       " 0.001818897246643238\n",
       " 0.013556158275316648\n",
       " 0.0505003037210998\n",
       " 0.022169464181572097\n",
       " 0.0022991741864617447\n",
       " 4.578850628114072e-5\n",
       " 0.00013868399961374734\n",
       " 0.00028911594367688365\n",
       " 0.0019745459912184323\n",
       " 0.012135779569601315\n",
       " ⋮\n",
       " 0.031315555565450424\n",
       " 0.0011634899028610307\n",
       " 0.020132652793509533\n",
       " 0.005719217419289434\n",
       " 0.0068143581487066646\n",
       " 2.0582602629191317e-5\n",
       " 0.002252317809344951\n",
       " 0.0014578959711642097\n",
       " 0.0037205271385872536\n",
       " 0.0027711933373604303\n",
       " 2.3605163318353062e-5\n",
       " 0.01728783059545766"
      ]
     },
     "execution_count": 21,
     "metadata": {},
     "output_type": "execute_result"
    }
   ],
   "source": [
    "pred = predict(logreg, test)"
   ]
  },
  {
   "cell_type": "markdown",
   "metadata": {},
   "source": [
    "## 模型評估"
   ]
  },
  {
   "cell_type": "code",
   "execution_count": 22,
   "metadata": {},
   "outputs": [
    {
     "data": {
      "text/plain": [
       "accuracy (generic function with 1 method)"
      ]
     },
     "execution_count": 22,
     "metadata": {},
     "output_type": "execute_result"
    }
   ],
   "source": [
    "error(x, y) = ((x > 0.5) ? 1.0 : 0.0) == y\n",
    "accuracy(xs, ys) = mean(error.(xs, ys))"
   ]
  },
  {
   "cell_type": "code",
   "execution_count": 23,
   "metadata": {},
   "outputs": [
    {
     "data": {
      "text/plain": [
       "0.9745"
      ]
     },
     "execution_count": 23,
     "metadata": {},
     "output_type": "execute_result"
    }
   ],
   "source": [
    "accuracy(pred, test[!, :DefaultNum])"
   ]
  },
  {
   "cell_type": "code",
   "execution_count": null,
   "metadata": {},
   "outputs": [],
   "source": []
  }
 ],
 "metadata": {
  "kernelspec": {
   "display_name": "Julia 1.4.1",
   "language": "julia",
   "name": "julia-1.4"
  },
  "language_info": {
   "file_extension": ".jl",
   "mimetype": "application/julia",
   "name": "julia",
   "version": "1.4.1"
  }
 },
 "nbformat": 4,
 "nbformat_minor": 4
}
