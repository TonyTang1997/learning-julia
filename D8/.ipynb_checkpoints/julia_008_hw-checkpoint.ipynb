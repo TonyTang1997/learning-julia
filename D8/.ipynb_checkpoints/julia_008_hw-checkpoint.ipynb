{
 "cells": [
  {
   "cell_type": "markdown",
   "metadata": {},
   "source": [
    "# Julia 字元 (Char) 與字串 (String)\n",
    "\n",
    "## Day 008 作業：讀取使用者輸入字串，並印出每個字元\n",
    "\n",
    "1. 使用 `readline()` 函式，讀取使用者輸入之字串。`readline()`是從 console 讀取使用者輸入的方式，讀進來的資料型別為字串，`readline()`的說明可參照官方文件 [Base.readline](https://docs.julialang.org/en/v1/base/io-network/#Base.readline)"
   ]
  },
  {
   "cell_type": "code",
   "execution_count": 1,
   "metadata": {},
   "outputs": [
    {
     "name": "stdout",
     "output_type": "stream",
     "text": [
      "stdin> 123456789\n"
     ]
    },
    {
     "data": {
      "text/plain": [
       "\"123456789\""
      ]
     },
     "execution_count": 1,
     "metadata": {},
     "output_type": "execute_result"
    }
   ],
   "source": [
    "str = readline()"
   ]
  },
  {
   "cell_type": "markdown",
   "metadata": {},
   "source": [
    "2. 印出字串中所有字元。"
   ]
  },
  {
   "cell_type": "code",
   "execution_count": 4,
   "metadata": {},
   "outputs": [
    {
     "ename": "MethodError",
     "evalue": "MethodError: no method matching getindex(::String, ::Char)\nClosest candidates are:\n  getindex(::String, !Matched::UnitRange{Int64}) at strings/string.jl:245\n  getindex(::String, !Matched::Int64) at strings/string.jl:210\n  getindex(::String, !Matched::UnitRange{#s69} where #s69<:Integer) at strings/string.jl:242\n  ...",
     "output_type": "error",
     "traceback": [
      "MethodError: no method matching getindex(::String, ::Char)\nClosest candidates are:\n  getindex(::String, !Matched::UnitRange{Int64}) at strings/string.jl:245\n  getindex(::String, !Matched::Int64) at strings/string.jl:210\n  getindex(::String, !Matched::UnitRange{#s69} where #s69<:Integer) at strings/string.jl:242\n  ...",
      "",
      "Stacktrace:",
      " [1] top-level scope at .\\In[4]:3"
     ]
    }
   ],
   "source": [
    "# 程式碼\n",
    "for j in str\n",
    "    print(str[j])\n",
    "end"
   ]
  },
  {
   "cell_type": "code",
   "execution_count": null,
   "metadata": {},
   "outputs": [],
   "source": []
  }
 ],
 "metadata": {
  "kernelspec": {
   "display_name": "Julia 1.4.1",
   "language": "julia",
   "name": "julia-1.4"
  },
  "language_info": {
   "file_extension": ".jl",
   "mimetype": "application/julia",
   "name": "julia",
   "version": "1.4.1"
  }
 },
 "nbformat": 4,
 "nbformat_minor": 4
}
